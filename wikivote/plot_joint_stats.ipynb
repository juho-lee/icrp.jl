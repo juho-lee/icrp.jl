{
 "cells": [
  {
   "cell_type": "code",
   "execution_count": 1,
   "metadata": {},
   "outputs": [],
   "source": [
    "using Plots\n",
    "using Serialization\n",
    "include(\"../interactions.jl\")\n",
    "include(\"../utils.jl\")\n",
    "In, coag_In = deserialize(\"../wikivote/wikivote_coag.data\");"
   ]
  },
  {
   "cell_type": "code",
   "execution_count": 2,
   "metadata": {},
   "outputs": [],
   "source": [
    "parents = [node.parent.index for node in In.nodes]\n",
    "num_children = [length(node.children) for node in coag_In.nodes]\n",
    "degrees = In.degrees\n",
    "coag_degrees = coag_In.degrees;"
   ]
  },
  {
   "cell_type": "code",
   "execution_count": 4,
   "metadata": {},
   "outputs": [],
   "source": [
    "include(\"../pdgm_coag_icrp.jl\")\n",
    "num_chains = 3\n",
    "chains = Vector{PDGMCoagICRPChain}(undef, 0)\n",
    "preds = Vector{PDGMCoagICRPPred}(undef, 0)\n",
    "for i in 1:num_chains\n",
    "    chain, pred = deserialize(\"results/pdgm_coag_icrp/run$i.data\")\n",
    "    push!(chains, chain)\n",
    "    push!(preds, pred)\n",
    "end"
   ]
  },
  {
   "cell_type": "code",
   "execution_count": 5,
   "metadata": {},
   "outputs": [],
   "source": [
    "pred_parents = Vector{Vector{Int}}(undef, 0)\n",
    "pred_num_children = Vector{Vector{Int}}(undef, 0)\n",
    "pred_degrees = Vector{Vector{Int}}(undef, 0)\n",
    "pred_coag_degrees = Vector{Vector{Int}}(undef, 0)\n",
    "for i in 1:num_chains\n",
    "    append!(pred_parents, preds[i].parents)\n",
    "    append!(pred_num_children, preds[i].num_children)\n",
    "    append!(pred_degrees, preds[i].degrees)\n",
    "    append!(pred_coag_degrees, preds[i].coag_degrees)\n",
    "end"
   ]
  },
  {
   "cell_type": "code",
   "execution_count": 6,
   "metadata": {},
   "outputs": [],
   "source": [
    "kss = zeros(length(pred_num_children))\n",
    "for i in 1:length(pred_num_children)\n",
    "    kss[i] = ApproximateTwoSampleKSTest(num_children, pred_num_children[i]).δ\n",
    "end"
   ]
  },
  {
   "cell_type": "code",
   "execution_count": 14,
   "metadata": {},
   "outputs": [
    {
     "data": {
      "text/plain": [
       "\"c:\\\\workspace\\\\codes\\\\julia\\\\icrp.jl\\\\wikivote\\\\figures\\\\pdgm_coag_icrp\\\\num_children.pdf\""
      ]
     },
     "metadata": {},
     "output_type": "display_data"
    }
   ],
   "source": [
    "import Measures:mm\n",
    "p = plot_fof(num_children)\n",
    "plot_fof_CI(pred_num_children; redraw=true)\n",
    "mean_ks, std_ks = round(mean(kss);digits=4), round(std(kss);digits=4)\n",
    "title = L\"Number of Children $D_{\\mathrm{KS}}: %$(mean_ks) \\pm %$(std_ks)$\"\n",
    "p = plot(p, size=(500, 400), margin=4mm, title=title)\n",
    "savefig(p, \"figures/pdgm_coag_icrp/num_children.pdf\")"
   ]
  },
  {
   "cell_type": "code",
   "execution_count": 9,
   "metadata": {},
   "outputs": [],
   "source": [
    "\n",
    "function compute_mean_coag_degree(\n",
    "    degrees_list,\n",
    "    coag_degrees_list,\n",
    "    parents_list;    \n",
    "    xloglim::Int=16,    \n",
    ")\n",
    "\n",
    "    edgebins = [2^i for i in 0:xloglim]\n",
    "    xs = zeros(0)\n",
    "    ys = [zeros(0) for _ in 1:length(degrees_list)]\n",
    "    for (i, (lb, ub)) in enumerate(zip(edgebins[1:end-1], edgebins[2:end]))    \n",
    "        cnts = zeros(0)\n",
    "        for (degrees, coag_degrees, parents) in zip(degrees_list, coag_degrees_list, parents_list)\n",
    "            inds = parents[(degrees .>= lb) .&& (degrees .<= ub)]   \n",
    "            cnt = mean(coag_degrees[inds])            \n",
    "            if cnt > 0\n",
    "                push!(cnts, cnt)                \n",
    "            end\n",
    "        end\n",
    "\n",
    "        if length(cnts) == length(degrees_list)\n",
    "            push!(xs, 0.5*(lb+ub))\n",
    "            for (j, cnt) in enumerate(cnts)\n",
    "                push!(ys[j], cnt)\n",
    "            end\n",
    "        end\n",
    "\n",
    "    end\n",
    "\n",
    "    return xs, ys\n",
    "\n",
    "end\n",
    "\n",
    "oxs, oys = compute_mean_coag_degree([In.degrees], [coag_In.degrees], [parents])\n",
    "xs, ys = compute_mean_coag_degree(pred_degrees, pred_coag_degrees, pred_parents)\n",
    "ys = cat(ys...; dims=2)';"
   ]
  },
  {
   "cell_type": "code",
   "execution_count": 10,
   "metadata": {},
   "outputs": [
    {
     "name": "stdout",
     "output_type": "stream",
     "text": [
      "0.000303030303030303\n"
     ]
    }
   ],
   "source": [
    "kss = zeros(size(ys, 1))\n",
    "for i in 1:length(size(ys,1))\n",
    "    kss[i] = ApproximateTwoSampleKSTest(oys[1], ys[i,:]).δ\n",
    "end\n",
    "println(mean(kss))"
   ]
  },
  {
   "cell_type": "code",
   "execution_count": 13,
   "metadata": {},
   "outputs": [
    {
     "data": {
      "text/plain": [
       "\"c:\\\\workspace\\\\codes\\\\julia\\\\icrp.jl\\\\wikivote\\\\figures\\\\pdgm_coag_icrp\\\\avg_parent_degrees.pdf\""
      ]
     },
     "metadata": {},
     "output_type": "display_data"
    }
   ],
   "source": [
    "p = plot(oxs, oys, xaxis=:log, yaxis=:log, \n",
    "            fillcolor=\"skyblue\", markershape=:circle, \n",
    "            markersize=5, label=nothing, linecolor=\"steelblue\", linewidth=1.5)\n",
    "\n",
    "\n",
    "α = 0.95\n",
    "lbs = zeros(length(xs))\n",
    "ubs = zeros(length(xs))\n",
    "for i in 1:length(xs)\n",
    "    lbs[i], ubs[i] = quantile(ys[:,i], [0.5 * (1 - α), 0.5 * (1 + α)])\n",
    "end\n",
    "\n",
    "p = plot!(xs, lbs, fillrange=ubs, label=nothing, linecolor=nothing, \n",
    "        fillcolor=\"skyblue\", fillalpha=0.3, xaxis=:log, yaxis=:log)\n",
    "\n",
    "p = plot(p, size=(500, 400), margin=4mm, title=\"Average parent degrees\")\n",
    "savefig(\"figures/pdgm_coag_icrp/avg_parent_degrees.pdf\")\n",
    "\n",
    "            "
   ]
  }
 ],
 "metadata": {
  "kernelspec": {
   "display_name": "Julia 1.8.5",
   "language": "julia",
   "name": "julia-1.8"
  },
  "language_info": {
   "file_extension": ".jl",
   "mimetype": "application/julia",
   "name": "julia",
   "version": "1.8.5"
  }
 },
 "nbformat": 4,
 "nbformat_minor": 2
}
