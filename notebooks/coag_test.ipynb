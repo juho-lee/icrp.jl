{
 "cells": [
  {
   "cell_type": "code",
   "execution_count": 34,
   "metadata": {},
   "outputs": [
    {
     "name": "stdout",
     "output_type": "stream",
     "text": [
      "2553 nodes, 8409 edges\n",
      "1076 nodes, 8409 edges\n"
     ]
    }
   ],
   "source": [
    "include(\"../pdgm_coag_icrp.jl\")\n",
    "include(\"../utils.jl\")\n",
    "using Serialization\n",
    "\n",
    "α_true = 0.4\n",
    "β_true = 0.1\n",
    "θ_true = 200.0\n",
    "m_true = 10\n",
    "expected_edge_length_freqs = Dict(1 => 500.0, 2 => 7000.0, 3 => 1000.0, 7 => 15.0, 100 => 0.5, 1000 => 1.0)\n",
    "In = simulate_ICRP(α_true, θ_true + m_true; expected_edge_length_freqs=expected_edge_length_freqs)\n",
    "coag_In = pdgm_coagulate(In, α_true, β_true, θ_true, m_true)\n",
    "\n",
    "println(\"$(length(In.nodes)) nodes, $(length(In.edge_lengths)) edges\")\n",
    "println(\"$(length(coag_In.nodes)) nodes, $(length(coag_In.edge_lengths)) edges\")"
   ]
  }
 ],
 "metadata": {
  "kernelspec": {
   "display_name": "Julia 1.8.5",
   "language": "julia",
   "name": "julia-1.8"
  },
  "language_info": {
   "file_extension": ".jl",
   "mimetype": "application/julia",
   "name": "julia",
   "version": "1.8.5"
  }
 },
 "nbformat": 4,
 "nbformat_minor": 2
}
